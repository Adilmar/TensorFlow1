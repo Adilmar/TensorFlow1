{
  "nbformat": 4,
  "nbformat_minor": 0,
  "metadata": {
    "colab": {
      "name": "sentimento.py",
      "version": "0.3.2",
      "provenance": [],
      "collapsed_sections": [],
      "include_colab_link": true
    },
    "kernelspec": {
      "name": "python3",
      "display_name": "Python 3"
    }
  },
  "cells": [
    {
      "cell_type": "markdown",
      "metadata": {
        "id": "view-in-github",
        "colab_type": "text"
      },
      "source": [
        "<a href=\"https://colab.research.google.com/github/Adilmar/TensorFlow1/blob/master/sentimento_py.ipynb\" target=\"_parent\"><img src=\"https://colab.research.google.com/assets/colab-badge.svg\" alt=\"Open In Colab\"/></a>"
      ]
    },
    {
      "cell_type": "code",
      "metadata": {
        "id": "3MDmdunKCMip",
        "colab_type": "code",
        "colab": {
          "base_uri": "https://localhost:8080/",
          "height": 54
        },
        "outputId": "f49ec553-0edb-412a-e6ad-30750bc893d2"
      },
      "source": [
        "import json\n",
        "import numpy as np\n",
        "import keras\n",
        "import keras.preprocessing.text as kpt\n",
        "from keras.preprocessing.text import Tokenizer\n",
        "from keras.models import model_from_json\n",
        "\n",
        "from google.colab import drive\n",
        "drive.mount('/content/drive')"
      ],
      "execution_count": 1,
      "outputs": [
        {
          "output_type": "stream",
          "text": [
            "Using TensorFlow backend.\n"
          ],
          "name": "stderr"
        },
        {
          "output_type": "stream",
          "text": [
            "Drive already mounted at /content/drive; to attempt to forcibly remount, call drive.mount(\"/content/drive\", force_remount=True).\n"
          ],
          "name": "stdout"
        }
      ]
    },
    {
      "cell_type": "code",
      "metadata": {
        "id": "jYFK-SvlB-Tq",
        "colab_type": "code",
        "colab": {
          "base_uri": "https://localhost:8080/",
          "height": 147
        },
        "outputId": "3fc1fc5f-0dd2-4903-a19b-7355fc012226"
      },
      "source": [
        "# we're still going to use a Tokenizer here, but we don't need to fit it\n",
        "tokenizer = Tokenizer(num_words=3000)\n",
        "# for human-friendly printing\n",
        "labels = ['negativo', 'positivo']\n",
        "\n",
        "# read in our saved dictionary\n",
        "with open('/content/drive/My Drive/Datasets/outputs/tw/dictionary.json', 'r') as dictionary_file:\n",
        "    dictionary = json.load(dictionary_file)\n",
        "\n",
        "# this utility makes sure that all the words in your input\n",
        "# are registered in the dictionary\n",
        "# before trying to turn them into a matrix.\n",
        "def convert_text_to_index_array(text):\n",
        "    words = kpt.text_to_word_sequence(text)\n",
        "    wordIndices = []\n",
        "    for word in words:\n",
        "        if word in dictionary:\n",
        "            wordIndices.append(dictionary[word])\n",
        "        else:\n",
        "            print(\"'%s' not in training corpus; ignoring.\" %(word))\n",
        "    return wordIndices\n",
        "\n",
        "# read in your saved model structure\n",
        "json_file = open('/content/drive/My Drive/Datasets/outputs/tw/model.json', 'r')\n",
        "loaded_model_json = json_file.read()\n",
        "json_file.close()\n",
        "# and create a model from that\n",
        "model = model_from_json(loaded_model_json)\n",
        "# and weight your nodes with your saved values\n",
        "model.load_weights('/content/drive/My Drive/Datasets/outputs/tw/model.h5')\n",
        "\n",
        "# okay here's the interactive part\n",
        "\n",
        "def avaliar(evalSentence):\n",
        "    if len(evalSentence) == 0:\n",
        "        return\n",
        "    # format your input for the neural net\n",
        "    testArr = convert_text_to_index_array(evalSentence)\n",
        "    input = tokenizer.sequences_to_matrix([testArr], mode='binary')\n",
        "    # predict which bucket your input belongs in\n",
        "    pred = model.predict(input)\n",
        "    # and print it for the humons\n",
        "    print(\"sentimento %s; com %f%% confianca\" % (labels[np.argmax(pred)], pred[0][np.argmax(pred)] * 100))"
      ],
      "execution_count": 2,
      "outputs": [
        {
          "output_type": "stream",
          "text": [
            "WARNING:tensorflow:From /usr/local/lib/python3.6/dist-packages/tensorflow/python/framework/op_def_library.py:263: colocate_with (from tensorflow.python.framework.ops) is deprecated and will be removed in a future version.\n",
            "Instructions for updating:\n",
            "Colocations handled automatically by placer.\n",
            "WARNING:tensorflow:From /usr/local/lib/python3.6/dist-packages/keras/backend/tensorflow_backend.py:3445: calling dropout (from tensorflow.python.ops.nn_ops) with keep_prob is deprecated and will be removed in a future version.\n",
            "Instructions for updating:\n",
            "Please use `rate` instead of `keep_prob`. Rate should be set to `rate = 1 - keep_prob`.\n"
          ],
          "name": "stdout"
        }
      ]
    },
    {
      "cell_type": "code",
      "metadata": {
        "id": "t3pGxOHnObgK",
        "colab_type": "code",
        "colab": {
          "base_uri": "https://localhost:8080/",
          "height": 35
        },
        "outputId": "8820fdd6-a59a-46d2-afa7-381ca733397e"
      },
      "source": [
        "avaliar(\"Eu estou feliz\")"
      ],
      "execution_count": 3,
      "outputs": [
        {
          "output_type": "stream",
          "text": [
            "sentimento positivo; com 99.968064% confianca\n"
          ],
          "name": "stdout"
        }
      ]
    }
  ]
}