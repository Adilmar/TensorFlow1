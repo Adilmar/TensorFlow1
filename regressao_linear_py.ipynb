{
  "nbformat": 4,
  "nbformat_minor": 0,
  "metadata": {
    "colab": {
      "name": "regressao_linear.py",
      "version": "0.3.2",
      "provenance": [],
      "private_outputs": true,
      "collapsed_sections": [],
      "include_colab_link": true
    },
    "kernelspec": {
      "name": "python3",
      "display_name": "Python 3"
    }
  },
  "cells": [
    {
      "cell_type": "markdown",
      "metadata": {
        "id": "view-in-github",
        "colab_type": "text"
      },
      "source": [
        "<a href=\"https://colab.research.google.com/github/Adilmar/TensorFlow1/blob/master/regressao_linear_py.ipynb\" target=\"_parent\"><img src=\"https://colab.research.google.com/assets/colab-badge.svg\" alt=\"Open In Colab\"/></a>"
      ]
    },
    {
      "cell_type": "code",
      "metadata": {
        "id": "Z74BYf0YgKG9",
        "colab_type": "code",
        "colab": {}
      },
      "source": [
        "#import lib\n",
        "import pandas as pd\n",
        "from sklearn import linear_model\n",
        "import matplotlib.pyplot as plt\n",
        "from google.colab import drive\n",
        "drive.mount('/content/drive')"
      ],
      "execution_count": 0,
      "outputs": []
    },
    {
      "cell_type": "code",
      "metadata": {
        "id": "ycEnLpCNbb2N",
        "colab_type": "code",
        "colab": {}
      },
      "source": [
        "#read data\n",
        "dataframe = pd.read_fwf('/content/sample_data/brain_body.txt')\n",
        "x_values = dataframe[['Brain']]\n",
        "y_values = dataframe[['Body']]\n",
        "\n",
        "#train model on data\n",
        "body_reg = linear_model.LinearRegression()\n",
        "body_reg.fit(x_values,y_values)\n",
        "\n",
        "#visualize\n",
        "plt.scatter(x_values,y_values)\n",
        "plt.plot(x_values,body_reg.predict(x_values))\n",
        "plt.show()"
      ],
      "execution_count": 0,
      "outputs": []
    }
  ]
}